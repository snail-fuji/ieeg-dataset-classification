{
 "cells": [
  {
   "cell_type": "markdown",
   "id": "c57774ad-47de-448b-b512-f98b701301e7",
   "metadata": {},
   "source": [
    "### Preprocess iEEG data"
   ]
  },
  {
   "cell_type": "code",
   "execution_count": 3,
   "id": "89342171-9246-427b-8b3c-3e25cccb3bd1",
   "metadata": {},
   "outputs": [],
   "source": [
    "import numpy as np\n",
    "import mne\n",
    "import pandas as pd\n",
    "import mne_bids\n",
    "\n",
    "from utils import resample, smooth_signal"
   ]
  },
  {
   "cell_type": "markdown",
   "id": "c9a48f71-9364-420a-ac3f-dad37a3383f0",
   "metadata": {},
   "source": [
    "# Read iEEG"
   ]
  },
  {
   "cell_type": "markdown",
   "id": "6079a612-0cda-429c-8b4e-0f391e0b4411",
   "metadata": {},
   "source": [
    "### Specify subject's directory and meta-information "
   ]
  },
  {
   "cell_type": "code",
   "execution_count": 4,
   "id": "dc9365e9-27d5-43f0-83ec-35993e61bd53",
   "metadata": {},
   "outputs": [],
   "source": [
    "bids_dir = '/media/snail-fuji/Nowy/ieeg/movies/ds003688-download/'"
   ]
  },
  {
   "cell_type": "code",
   "execution_count": 5,
   "id": "1d964e14-67db-4e03-bbcb-32747a86a4f6",
   "metadata": {},
   "outputs": [],
   "source": [
    "subjects = mne_bids.get_entity_vals(bids_dir, 'subject')"
   ]
  },
  {
   "cell_type": "code",
   "execution_count": 6,
   "id": "211f29ad-e339-4db4-b9bc-65f03c062fae",
   "metadata": {},
   "outputs": [],
   "source": [
    "subject = '01'\n",
    "acquisition = 'clinical'\n",
    "task = 'film'\n",
    "datatype = 'ieeg'\n",
    "session = 'iemu'"
   ]
  },
  {
   "cell_type": "markdown",
   "id": "ac35cbd6-4a7b-4898-bb8f-b3f45b6158d7",
   "metadata": {},
   "source": [
    "### Load channels"
   ]
  },
  {
   "cell_type": "code",
   "execution_count": 7,
   "id": "8a7ad24a-0a88-4159-8d2e-b4f42b03d909",
   "metadata": {},
   "outputs": [
    {
     "name": "stderr",
     "output_type": "stream",
     "text": [
      "/tmp/ipykernel_12579/3115014924.py:1: FutureWarning: extension should start with a period \".\", but got: \"tsv\". Prepending \".\" to form: \".tsv\". This will raise an exception starting with MNE-BIDS 0.12.\n",
      "  channels_path = mne_bids.BIDSPath(subject=subject,\n"
     ]
    }
   ],
   "source": [
    "channels_path = mne_bids.BIDSPath(subject=subject,\n",
    "                                    session=session,\n",
    "                                    suffix='channels',\n",
    "                                    extension='tsv',\n",
    "                                    datatype=datatype,\n",
    "                                    task=task,\n",
    "                                    acquisition=acquisition,\n",
    "                                    root=bids_dir)\n",
    "channels = pd.read_csv(str(channels_path.match()[0]), sep='\\t', header=0, index_col=None)"
   ]
  },
  {
   "cell_type": "markdown",
   "id": "c95f5002-ba30-4be7-9071-988af78639eb",
   "metadata": {},
   "source": [
    "### Load data information"
   ]
  },
  {
   "cell_type": "code",
   "execution_count": 8,
   "id": "1fe5073e-3cc3-4d5c-bb40-ae3d5cf2febe",
   "metadata": {
    "scrolled": true
   },
   "outputs": [
    {
     "name": "stderr",
     "output_type": "stream",
     "text": [
      "/tmp/ipykernel_12579/2865297635.py:1: FutureWarning: extension should start with a period \".\", but got: \"vhdr\". Prepending \".\" to form: \".vhdr\". This will raise an exception starting with MNE-BIDS 0.12.\n",
      "  data_path = mne_bids.BIDSPath(subject=subject,\n"
     ]
    },
    {
     "name": "stdout",
     "output_type": "stream",
     "text": [
      "Extracting parameters from /media/snail-fuji/Nowy/ieeg/movies/ds003688-download/sub-01/ses-iemu/ieeg/sub-01_ses-iemu_task-film_acq-clinical_run-1_ieeg.vhdr...\n",
      "Setting channel info structure...\n"
     ]
    },
    {
     "name": "stderr",
     "output_type": "stream",
     "text": [
      "/tmp/ipykernel_12579/2865297635.py:10: RuntimeWarning: The unit for channel(s) AH+, ECG+, EMG+, MKR1+, MKR2+, ORB+, abdo+, thor+ has changed from V to NA.\n",
      "  raw.set_channel_types({ch_name: str(x).lower()\n"
     ]
    },
    {
     "data": {
      "text/html": [
       "<details open>\n",
       "    <summary><strong>General</strong></summary>\n",
       "    <table class=\"table table-hover table-striped table-sm table-responsive small\">\n",
       "        <tr>\n",
       "            <th>Measurement date</th>\n",
       "            \n",
       "            <td>January 01, 1900  00:00:00 GMT</td>\n",
       "            \n",
       "        </tr>\n",
       "        <tr>\n",
       "            <th>Experimenter</th>\n",
       "            \n",
       "            <td>Unknown</td>\n",
       "            \n",
       "        </tr>\n",
       "        <tr>\n",
       "            <th>Participant</th>\n",
       "            \n",
       "            <td>Unknown</td>\n",
       "            \n",
       "        </tr>\n",
       "    </table>\n",
       "    </details>\n",
       "    <details open>\n",
       "        <summary><strong>Channels</strong></summary>\n",
       "        <table class=\"table table-hover table-striped table-sm table-responsive small\">\n",
       "            <tr>\n",
       "                <th>Digitized points</th>\n",
       "                \n",
       "                <td>Not available</td>\n",
       "                \n",
       "            </tr>\n",
       "            <tr>\n",
       "                <th>Good channels</th>\n",
       "                <td>103 sEEG</td>\n",
       "            </tr>\n",
       "            <tr>\n",
       "                <th>Bad channels</th>\n",
       "                <td>None</td>\n",
       "            </tr>\n",
       "            <tr>\n",
       "                <th>EOG channels</th>\n",
       "                <td>Not available</td>\n",
       "            </tr>\n",
       "            <tr>\n",
       "                <th>ECG channels</th>\n",
       "                <td>Not available</td>\n",
       "            </tr>\n",
       "        </table>\n",
       "        </details>\n",
       "        <details open>\n",
       "            <summary><strong>Data</strong></summary>\n",
       "            <table class=\"table table-hover table-striped table-sm table-responsive small\">\n",
       "                \n",
       "                <tr>\n",
       "                    <th>Sampling frequency</th>\n",
       "                    <td>2048.00 Hz</td>\n",
       "                </tr>\n",
       "                \n",
       "                \n",
       "                <tr>\n",
       "                    <th>Highpass</th>\n",
       "                    <td>0.00 Hz</td>\n",
       "                </tr>\n",
       "                \n",
       "                \n",
       "                <tr>\n",
       "                    <th>Lowpass</th>\n",
       "                    <td>1024.00 Hz</td>\n",
       "                </tr>\n",
       "                \n",
       "                \n",
       "                \n",
       "                <tr>\n",
       "                    <th>Filenames</th>\n",
       "                    <td>sub-01_ses-iemu_task-film_acq-clinical_run-1_ieeg.eeg</td>\n",
       "                </tr>\n",
       "                \n",
       "                \n",
       "                <tr>\n",
       "                    <th>Duration</th>\n",
       "                    <td>00:07:01 (HH:MM:SS)</td>\n",
       "                </tr>\n",
       "                \n",
       "            </table>\n",
       "            </details>"
      ],
      "text/plain": [
       "<RawBrainVision | sub-01_ses-iemu_task-film_acq-clinical_run-1_ieeg.eeg, 103 x 860254 (420.0 s), ~88 kB, data not loaded>"
      ]
     },
     "execution_count": 8,
     "metadata": {},
     "output_type": "execute_result"
    }
   ],
   "source": [
    "data_path = mne_bids.BIDSPath(subject=subject,\n",
    "                                    session=session,\n",
    "                                    suffix='ieeg',\n",
    "                                    extension='vhdr',\n",
    "                                    datatype=datatype,\n",
    "                                    task=task,\n",
    "                                    acquisition=acquisition,\n",
    "                                    root=bids_dir)\n",
    "raw = mne.io.read_raw_brainvision(str(data_path.match()[0]), scale=1.0, preload=False, verbose=True)\n",
    "raw.set_channel_types({ch_name: str(x).lower()\n",
    "                if str(x).lower() in ['ecog', 'seeg', 'eeg'] else 'misc'\n",
    "                                for ch_name, x in zip(raw.ch_names, channels['type'].values)})\n",
    "raw.drop_channels([raw.ch_names[i] for i, j in enumerate(raw.get_channel_types()) if j == 'misc'])"
   ]
  },
  {
   "cell_type": "markdown",
   "id": "4a2cd579-0254-4fd4-9f14-7a3c64426f76",
   "metadata": {},
   "source": [
    "### Discard bad channels"
   ]
  },
  {
   "cell_type": "code",
   "execution_count": 9,
   "id": "fac4d749-cb49-438f-84d1-2663e46878cc",
   "metadata": {
    "scrolled": true
   },
   "outputs": [
    {
     "data": {
      "text/html": [
       "<details open>\n",
       "    <summary><strong>General</strong></summary>\n",
       "    <table class=\"table table-hover table-striped table-sm table-responsive small\">\n",
       "        <tr>\n",
       "            <th>Measurement date</th>\n",
       "            \n",
       "            <td>January 01, 1900  00:00:00 GMT</td>\n",
       "            \n",
       "        </tr>\n",
       "        <tr>\n",
       "            <th>Experimenter</th>\n",
       "            \n",
       "            <td>Unknown</td>\n",
       "            \n",
       "        </tr>\n",
       "        <tr>\n",
       "            <th>Participant</th>\n",
       "            \n",
       "            <td>Unknown</td>\n",
       "            \n",
       "        </tr>\n",
       "    </table>\n",
       "    </details>\n",
       "    <details open>\n",
       "        <summary><strong>Channels</strong></summary>\n",
       "        <table class=\"table table-hover table-striped table-sm table-responsive small\">\n",
       "            <tr>\n",
       "                <th>Digitized points</th>\n",
       "                \n",
       "                <td>Not available</td>\n",
       "                \n",
       "            </tr>\n",
       "            <tr>\n",
       "                <th>Good channels</th>\n",
       "                <td>101 sEEG</td>\n",
       "            </tr>\n",
       "            <tr>\n",
       "                <th>Bad channels</th>\n",
       "                <td>None</td>\n",
       "            </tr>\n",
       "            <tr>\n",
       "                <th>EOG channels</th>\n",
       "                <td>Not available</td>\n",
       "            </tr>\n",
       "            <tr>\n",
       "                <th>ECG channels</th>\n",
       "                <td>Not available</td>\n",
       "            </tr>\n",
       "        </table>\n",
       "        </details>\n",
       "        <details open>\n",
       "            <summary><strong>Data</strong></summary>\n",
       "            <table class=\"table table-hover table-striped table-sm table-responsive small\">\n",
       "                \n",
       "                <tr>\n",
       "                    <th>Sampling frequency</th>\n",
       "                    <td>2048.00 Hz</td>\n",
       "                </tr>\n",
       "                \n",
       "                \n",
       "                <tr>\n",
       "                    <th>Highpass</th>\n",
       "                    <td>0.00 Hz</td>\n",
       "                </tr>\n",
       "                \n",
       "                \n",
       "                <tr>\n",
       "                    <th>Lowpass</th>\n",
       "                    <td>1024.00 Hz</td>\n",
       "                </tr>\n",
       "                \n",
       "                \n",
       "                \n",
       "                <tr>\n",
       "                    <th>Filenames</th>\n",
       "                    <td>sub-01_ses-iemu_task-film_acq-clinical_run-1_ieeg.eeg</td>\n",
       "                </tr>\n",
       "                \n",
       "                \n",
       "                <tr>\n",
       "                    <th>Duration</th>\n",
       "                    <td>00:07:01 (HH:MM:SS)</td>\n",
       "                </tr>\n",
       "                \n",
       "            </table>\n",
       "            </details>"
      ],
      "text/plain": [
       "<RawBrainVision | sub-01_ses-iemu_task-film_acq-clinical_run-1_ieeg.eeg, 101 x 860254 (420.0 s), ~86 kB, data not loaded>"
      ]
     },
     "execution_count": 9,
     "metadata": {},
     "output_type": "execute_result"
    }
   ],
   "source": [
    "bad_channels = channels['name'][(channels['type'].isin(['ECOG', 'SEEG'])) & (channels['status'] == 'bad')].tolist()\n",
    "raw.info['bads'].extend([ch for ch in bad_channels])\n",
    "raw.drop_channels(raw.info['bads'])"
   ]
  },
  {
   "cell_type": "markdown",
   "id": "97a4d166-ab68-443f-a956-298b7138d000",
   "metadata": {},
   "source": [
    "### Load raw data"
   ]
  },
  {
   "cell_type": "code",
   "execution_count": 10,
   "id": "9fff089a-1206-4dce-9a38-c842690dccf5",
   "metadata": {
    "scrolled": true
   },
   "outputs": [
    {
     "name": "stdout",
     "output_type": "stream",
     "text": [
      "Reading 0 ... 860253  =      0.000 ...   420.045 secs...\n"
     ]
    },
    {
     "data": {
      "text/html": [
       "<details open>\n",
       "    <summary><strong>General</strong></summary>\n",
       "    <table class=\"table table-hover table-striped table-sm table-responsive small\">\n",
       "        <tr>\n",
       "            <th>Measurement date</th>\n",
       "            \n",
       "            <td>January 01, 1900  00:00:00 GMT</td>\n",
       "            \n",
       "        </tr>\n",
       "        <tr>\n",
       "            <th>Experimenter</th>\n",
       "            \n",
       "            <td>Unknown</td>\n",
       "            \n",
       "        </tr>\n",
       "        <tr>\n",
       "            <th>Participant</th>\n",
       "            \n",
       "            <td>Unknown</td>\n",
       "            \n",
       "        </tr>\n",
       "    </table>\n",
       "    </details>\n",
       "    <details open>\n",
       "        <summary><strong>Channels</strong></summary>\n",
       "        <table class=\"table table-hover table-striped table-sm table-responsive small\">\n",
       "            <tr>\n",
       "                <th>Digitized points</th>\n",
       "                \n",
       "                <td>Not available</td>\n",
       "                \n",
       "            </tr>\n",
       "            <tr>\n",
       "                <th>Good channels</th>\n",
       "                <td>101 sEEG</td>\n",
       "            </tr>\n",
       "            <tr>\n",
       "                <th>Bad channels</th>\n",
       "                <td>None</td>\n",
       "            </tr>\n",
       "            <tr>\n",
       "                <th>EOG channels</th>\n",
       "                <td>Not available</td>\n",
       "            </tr>\n",
       "            <tr>\n",
       "                <th>ECG channels</th>\n",
       "                <td>Not available</td>\n",
       "            </tr>\n",
       "        </table>\n",
       "        </details>\n",
       "        <details open>\n",
       "            <summary><strong>Data</strong></summary>\n",
       "            <table class=\"table table-hover table-striped table-sm table-responsive small\">\n",
       "                \n",
       "                <tr>\n",
       "                    <th>Sampling frequency</th>\n",
       "                    <td>2048.00 Hz</td>\n",
       "                </tr>\n",
       "                \n",
       "                \n",
       "                <tr>\n",
       "                    <th>Highpass</th>\n",
       "                    <td>0.00 Hz</td>\n",
       "                </tr>\n",
       "                \n",
       "                \n",
       "                <tr>\n",
       "                    <th>Lowpass</th>\n",
       "                    <td>1024.00 Hz</td>\n",
       "                </tr>\n",
       "                \n",
       "                \n",
       "                \n",
       "                <tr>\n",
       "                    <th>Filenames</th>\n",
       "                    <td>sub-01_ses-iemu_task-film_acq-clinical_run-1_ieeg.eeg</td>\n",
       "                </tr>\n",
       "                \n",
       "                \n",
       "                <tr>\n",
       "                    <th>Duration</th>\n",
       "                    <td>00:07:01 (HH:MM:SS)</td>\n",
       "                </tr>\n",
       "                \n",
       "            </table>\n",
       "            </details>"
      ],
      "text/plain": [
       "<RawBrainVision | sub-01_ses-iemu_task-film_acq-clinical_run-1_ieeg.eeg, 101 x 860254 (420.0 s), ~663.0 MB, data loaded>"
      ]
     },
     "execution_count": 10,
     "metadata": {},
     "output_type": "execute_result"
    }
   ],
   "source": [
    "raw.load_data()"
   ]
  },
  {
   "cell_type": "markdown",
   "id": "b0c6e5ff-6c58-4caa-9359-cc0f8b8d0dfd",
   "metadata": {},
   "source": [
    "### Apply notch filter to remove line noise"
   ]
  },
  {
   "cell_type": "code",
   "execution_count": 11,
   "id": "9ec78067-3529-491d-bc0b-3889ed166d94",
   "metadata": {
    "scrolled": true
   },
   "outputs": [
    {
     "name": "stdout",
     "output_type": "stream",
     "text": [
      "Filtering raw data in 1 contiguous segment\n",
      "Setting up band-stop filter\n",
      "\n",
      "FIR filter parameters\n",
      "---------------------\n",
      "Designing a one-pass, zero-phase, non-causal bandstop filter:\n",
      "- Windowed time-domain design (firwin) method\n",
      "- Hamming window with 0.0194 passband ripple and 53 dB stopband attenuation\n",
      "- Lower transition bandwidth: 0.50 Hz\n",
      "- Upper transition bandwidth: 0.50 Hz\n",
      "- Filter length: 13517 samples (6.600 s)\n",
      "\n"
     ]
    },
    {
     "name": "stderr",
     "output_type": "stream",
     "text": [
      "[Parallel(n_jobs=1)]: Done  17 tasks      | elapsed:    1.3s\n",
      "[Parallel(n_jobs=1)]: Done  71 tasks      | elapsed:    5.3s\n"
     ]
    },
    {
     "data": {
      "text/html": [
       "<details open>\n",
       "    <summary><strong>General</strong></summary>\n",
       "    <table class=\"table table-hover table-striped table-sm table-responsive small\">\n",
       "        <tr>\n",
       "            <th>Measurement date</th>\n",
       "            \n",
       "            <td>January 01, 1900  00:00:00 GMT</td>\n",
       "            \n",
       "        </tr>\n",
       "        <tr>\n",
       "            <th>Experimenter</th>\n",
       "            \n",
       "            <td>Unknown</td>\n",
       "            \n",
       "        </tr>\n",
       "        <tr>\n",
       "            <th>Participant</th>\n",
       "            \n",
       "            <td>Unknown</td>\n",
       "            \n",
       "        </tr>\n",
       "    </table>\n",
       "    </details>\n",
       "    <details open>\n",
       "        <summary><strong>Channels</strong></summary>\n",
       "        <table class=\"table table-hover table-striped table-sm table-responsive small\">\n",
       "            <tr>\n",
       "                <th>Digitized points</th>\n",
       "                \n",
       "                <td>Not available</td>\n",
       "                \n",
       "            </tr>\n",
       "            <tr>\n",
       "                <th>Good channels</th>\n",
       "                <td>101 sEEG</td>\n",
       "            </tr>\n",
       "            <tr>\n",
       "                <th>Bad channels</th>\n",
       "                <td>None</td>\n",
       "            </tr>\n",
       "            <tr>\n",
       "                <th>EOG channels</th>\n",
       "                <td>Not available</td>\n",
       "            </tr>\n",
       "            <tr>\n",
       "                <th>ECG channels</th>\n",
       "                <td>Not available</td>\n",
       "            </tr>\n",
       "        </table>\n",
       "        </details>\n",
       "        <details open>\n",
       "            <summary><strong>Data</strong></summary>\n",
       "            <table class=\"table table-hover table-striped table-sm table-responsive small\">\n",
       "                \n",
       "                <tr>\n",
       "                    <th>Sampling frequency</th>\n",
       "                    <td>2048.00 Hz</td>\n",
       "                </tr>\n",
       "                \n",
       "                \n",
       "                <tr>\n",
       "                    <th>Highpass</th>\n",
       "                    <td>0.00 Hz</td>\n",
       "                </tr>\n",
       "                \n",
       "                \n",
       "                <tr>\n",
       "                    <th>Lowpass</th>\n",
       "                    <td>1024.00 Hz</td>\n",
       "                </tr>\n",
       "                \n",
       "                \n",
       "                \n",
       "                <tr>\n",
       "                    <th>Filenames</th>\n",
       "                    <td>sub-01_ses-iemu_task-film_acq-clinical_run-1_ieeg.eeg</td>\n",
       "                </tr>\n",
       "                \n",
       "                \n",
       "                <tr>\n",
       "                    <th>Duration</th>\n",
       "                    <td>00:07:01 (HH:MM:SS)</td>\n",
       "                </tr>\n",
       "                \n",
       "            </table>\n",
       "            </details>"
      ],
      "text/plain": [
       "<RawBrainVision | sub-01_ses-iemu_task-film_acq-clinical_run-1_ieeg.eeg, 101 x 860254 (420.0 s), ~663.0 MB, data loaded>"
      ]
     },
     "execution_count": 11,
     "metadata": {},
     "output_type": "execute_result"
    }
   ],
   "source": [
    "raw.notch_filter(freqs=np.arange(50, 251, 50))"
   ]
  },
  {
   "cell_type": "markdown",
   "id": "bb8c20ea-26fb-4d81-a748-e9d2920b24d0",
   "metadata": {},
   "source": [
    "### Apply common average reference to remove common noise and trends"
   ]
  },
  {
   "cell_type": "code",
   "execution_count": 12,
   "id": "6acd92f0-49d8-4c9a-9c1a-315083e6ae3b",
   "metadata": {},
   "outputs": [
    {
     "name": "stdout",
     "output_type": "stream",
     "text": [
      "sEEG channel type selected for re-referencing\n",
      "Applying average reference.\n",
      "Applying a custom ('sEEG',) reference.\n"
     ]
    }
   ],
   "source": [
    "raw_car, _ = mne.set_eeg_reference(raw.copy(), 'average')"
   ]
  },
  {
   "cell_type": "markdown",
   "id": "bfacb3d0-74b2-4646-8ef2-254a17f6392f",
   "metadata": {},
   "source": [
    "### Extract signal in gamma range, use Hilbert transform, but can also play around with wavelet decomposition options"
   ]
  },
  {
   "cell_type": "code",
   "execution_count": 13,
   "id": "64f168f0-ba2a-45b6-81bc-24f5196c6500",
   "metadata": {},
   "outputs": [
    {
     "name": "stdout",
     "output_type": "stream",
     "text": [
      "Filtering raw data in 1 contiguous segment\n",
      "Setting up band-pass filter from 60 - 1.2e+02 Hz\n",
      "\n",
      "FIR filter parameters\n",
      "---------------------\n",
      "Designing a one-pass, zero-phase, non-causal bandpass filter:\n",
      "- Windowed time-domain design (firwin) method\n",
      "- Hamming window with 0.0194 passband ripple and 53 dB stopband attenuation\n",
      "- Lower passband edge: 60.00\n",
      "- Lower transition bandwidth: 15.00 Hz (-6 dB cutoff frequency: 52.50 Hz)\n",
      "- Upper passband edge: 120.00 Hz\n",
      "- Upper transition bandwidth: 30.00 Hz (-6 dB cutoff frequency: 135.00 Hz)\n",
      "- Filter length: 451 samples (0.220 s)\n",
      "\n"
     ]
    },
    {
     "name": "stderr",
     "output_type": "stream",
     "text": [
      "[Parallel(n_jobs=1)]: Done  17 tasks      | elapsed:    1.0s\n",
      "[Parallel(n_jobs=1)]: Done  71 tasks      | elapsed:    4.0s\n"
     ]
    }
   ],
   "source": [
    "gamma = raw_car.copy().filter(60, 120).apply_hilbert(envelope=True).get_data().T"
   ]
  },
  {
   "cell_type": "code",
   "execution_count": 14,
   "id": "1632734f-d5b6-4481-8ffb-009df12dca93",
   "metadata": {},
   "outputs": [],
   "source": [
    "# temp = mne.time_frequency.tfr_array_morlet(np.expand_dims(self.raw_car.copy()._data, 0), # (n_epochs, n_channels, n_times)\n",
    "#                                                      sfreq=self.raw.info['sfreq'],\n",
    "#                                                      freqs=np.arange(60, 120),\n",
    "#                                                      verbose=True,\n",
    "#                                                      n_cycles=4.,\n",
    "#                                                      n_jobs=1)\n",
    "# gamma = np.mean(np.abs(temp), 2).squeeze().T"
   ]
  },
  {
   "cell_type": "markdown",
   "id": "6e3665b8-0536-4530-bd69-a8073b20a442",
   "metadata": {},
   "source": [
    "### Read annotation with event markers"
   ]
  },
  {
   "cell_type": "code",
   "execution_count": 15,
   "id": "25f22a1a-a8bc-40b0-bdf5-72f7d85c24d6",
   "metadata": {},
   "outputs": [],
   "source": [
    "# custom_mapping = {'Stimulus/music': 2, 'Stimulus/speech': 1,\n",
    "#                   'Stimulus/end task': 5}  # 'Stimulus/task end' in laan\n",
    "# events, event_id = mne.events_from_annotations(raw_car, event_id=custom_mapping,\n",
    "#                                                          use_rounding=False)"
   ]
  },
  {
   "cell_type": "markdown",
   "id": "6c3a51d0-2d22-4f0e-97ba-cd36d58f76ca",
   "metadata": {},
   "source": [
    "# Read annotations"
   ]
  },
  {
   "cell_type": "markdown",
   "id": "4f0f1aef-ffef-4a12-b2ee-70e6c5b0463e",
   "metadata": {},
   "source": [
    "Задача - прочитать больше аннотаций"
   ]
  },
  {
   "cell_type": "code",
   "execution_count": 16,
   "id": "ba0d51ab-c00c-47b5-9115-bddf7bdb71f1",
   "metadata": {},
   "outputs": [],
   "source": [
    "import os"
   ]
  },
  {
   "cell_type": "code",
   "execution_count": 17,
   "id": "de85dff5-c4a7-42c5-be53-1b988308b1c1",
   "metadata": {},
   "outputs": [],
   "source": [
    "annotations_path = '/media/snail-fuji/Nowy/ieeg/movies/ds003688-download/stimuli/annotations/video'"
   ]
  },
  {
   "cell_type": "code",
   "execution_count": 18,
   "id": "7712ada8-be68-417f-9b94-4347cb437d98",
   "metadata": {},
   "outputs": [],
   "source": [
    "file_paths = os.listdir(annotations_path)"
   ]
  },
  {
   "cell_type": "code",
   "execution_count": 19,
   "id": "c2910e80-0098-449a-8a92-fad59bd39886",
   "metadata": {},
   "outputs": [
    {
     "data": {
      "text/plain": [
       "'video_annotation_acrobat.tsv'"
      ]
     },
     "execution_count": 19,
     "metadata": {},
     "output_type": "execute_result"
    }
   ],
   "source": [
    "file_paths[0]"
   ]
  },
  {
   "cell_type": "code",
   "execution_count": 20,
   "id": "91f84e6e-7331-4be4-9623-81882345a0bf",
   "metadata": {},
   "outputs": [],
   "source": [
    "all_annotations = []\n",
    "\n",
    "for file_path in file_paths:\n",
    "    file_annotation_path = annotations_path + '/' + file_path\n",
    "    annotations_df = pd.read_csv(file_annotation_path, sep='\\t')\n",
    "    annotations_df['label'] = file_path.replace('video_annotation_', '').split('.')[0]\n",
    "    all_annotations.append(annotations_df)"
   ]
  },
  {
   "cell_type": "code",
   "execution_count": 21,
   "id": "92a6e714-0199-4a60-b4eb-8de5dff45174",
   "metadata": {},
   "outputs": [],
   "source": [
    "all_annotations_df = pd.concat(all_annotations)"
   ]
  },
  {
   "cell_type": "code",
   "execution_count": 22,
   "id": "e26de635-2670-49c3-9274-5d3be495d7b2",
   "metadata": {},
   "outputs": [],
   "source": [
    "all_annotations_df.to_csv('anchors.csv', index=False)"
   ]
  },
  {
   "cell_type": "markdown",
   "id": "207abf17-e242-498d-8480-280d3b0125af",
   "metadata": {},
   "source": [
    "# Assign new annotations"
   ]
  },
  {
   "cell_type": "code",
   "execution_count": 23,
   "id": "6daaa60a-b7f2-454e-a29e-32a529ed6e03",
   "metadata": {},
   "outputs": [],
   "source": [
    "sfreq = raw_car.info['sfreq']"
   ]
  },
  {
   "cell_type": "code",
   "execution_count": 24,
   "id": "99e349ba-0c77-4d0b-8601-edb043a8d524",
   "metadata": {},
   "outputs": [],
   "source": [
    "all_annotations_df['onset_sample'] = all_annotations_df['onset'] * sfreq"
   ]
  },
  {
   "cell_type": "code",
   "execution_count": 25,
   "id": "febbf60c-6846-48e7-a8ee-8b1f7f9acfa7",
   "metadata": {},
   "outputs": [
    {
     "data": {
      "text/plain": [
       "386.76"
      ]
     },
     "execution_count": 25,
     "metadata": {},
     "output_type": "execute_result"
    }
   ],
   "source": [
    "all_annotations_df['onset'].max()"
   ]
  },
  {
   "cell_type": "code",
   "execution_count": 26,
   "id": "f0d343ed-9498-4625-805f-b623da102c49",
   "metadata": {},
   "outputs": [
    {
     "data": {
      "text/plain": [
       "420.04541015625"
      ]
     },
     "execution_count": 26,
     "metadata": {},
     "output_type": "execute_result"
    }
   ],
   "source": [
    "raw_car.times.max()"
   ]
  },
  {
   "cell_type": "code",
   "execution_count": 27,
   "id": "8d03616d-8821-45de-bbdb-cf4e44878761",
   "metadata": {},
   "outputs": [
    {
     "data": {
      "text/plain": [
       "label\n",
       "pippi         26\n",
       "girl          23\n",
       "woman         23\n",
       "smile         23\n",
       "hair          22\n",
       "head          22\n",
       "man           22\n",
       "seated        21\n",
       "young         19\n",
       "adolescent    19\n",
       "Name: count, dtype: int64"
      ]
     },
     "execution_count": 27,
     "metadata": {},
     "output_type": "execute_result"
    }
   ],
   "source": [
    "all_annotations_df['label'].value_counts().iloc[0:10]"
   ]
  },
  {
   "cell_type": "code",
   "execution_count": 28,
   "id": "b7ddd40b-5b98-4c79-859e-8b09d15d1847",
   "metadata": {},
   "outputs": [],
   "source": [
    "all_annotations_labels = all_annotations_df['label'].value_counts().iloc[0:10]"
   ]
  },
  {
   "cell_type": "code",
   "execution_count": 29,
   "id": "517619da-00f0-4a97-bbf5-ab5a40369ff9",
   "metadata": {},
   "outputs": [],
   "source": [
    "all_annotations_df['event1'] = 0\n",
    "all_annotations_df['event_id'] = all_annotations_df['label'].apply(lambda x: x in all_annotations_labels).astype(int)"
   ]
  },
  {
   "cell_type": "code",
   "execution_count": 30,
   "id": "d4fdc659-fc16-4c1f-87e5-292459b1168c",
   "metadata": {},
   "outputs": [],
   "source": [
    "all_annotations_labels_dict = {\n",
    "    'target': 1,\n",
    "    'other': 0\n",
    "}"
   ]
  },
  {
   "cell_type": "code",
   "execution_count": 31,
   "id": "b092eb63-3cf9-4ad3-96b3-a686b593b019",
   "metadata": {},
   "outputs": [
    {
     "data": {
      "text/plain": [
       "event_id\n",
       "0    836\n",
       "1    220\n",
       "Name: count, dtype: int64"
      ]
     },
     "execution_count": 31,
     "metadata": {},
     "output_type": "execute_result"
    }
   ],
   "source": [
    "all_annotations_df['event_id'].value_counts()"
   ]
  },
  {
   "cell_type": "code",
   "execution_count": 32,
   "id": "b5f13d7a-01e8-4c8e-8dfd-53aab7e50c1c",
   "metadata": {},
   "outputs": [],
   "source": [
    "events = all_annotations_df[['onset_sample', 'event1', 'event_id']].fillna(len(all_annotations_labels_dict)).drop_duplicates(subset='onset_sample').astype(int).values"
   ]
  },
  {
   "cell_type": "code",
   "execution_count": 33,
   "id": "23221465-bb73-41d7-a190-ab57f94f55fa",
   "metadata": {},
   "outputs": [],
   "source": [
    "# used_annotations = set(events.T[-1])"
   ]
  },
  {
   "cell_type": "code",
   "execution_count": 34,
   "id": "0c1f335d-c95b-41af-ae1c-3308f0be05cf",
   "metadata": {},
   "outputs": [],
   "source": [
    "all_annotations_labels_dict_filtered = all_annotations_labels_dict.copy()"
   ]
  },
  {
   "cell_type": "code",
   "execution_count": 35,
   "id": "81ae6a47-205f-4961-924c-8b7b72f6e38f",
   "metadata": {
    "scrolled": true
   },
   "outputs": [
    {
     "name": "stdout",
     "output_type": "stream",
     "text": [
      "Not setting metadata\n",
      "165 matching events found\n",
      "Setting baseline interval to [-5.0, 0.0] s\n",
      "Applying baseline correction (mode: mean)\n",
      "0 projection items activated\n",
      "Using data from preloaded Raw for 165 events and 10241 original time points ...\n"
     ]
    },
    {
     "name": "stderr",
     "output_type": "stream",
     "text": [
      "/tmp/ipykernel_12579/2756416248.py:1: RuntimeWarning: The events passed to the Epochs constructor are not chronologically ordered.\n",
      "  epochs = mne.Epochs(\n"
     ]
    },
    {
     "name": "stdout",
     "output_type": "stream",
     "text": [
      "4 bad epochs dropped\n"
     ]
    }
   ],
   "source": [
    "epochs = mne.Epochs(\n",
    "    raw_car, \n",
    "    events, \n",
    "    event_id=all_annotations_labels_dict_filtered, \n",
    "    tmin=-5, \n",
    "    tmax=0,\n",
    "    baseline=(None, 0),\n",
    "    preload=True\n",
    ")"
   ]
  },
  {
   "cell_type": "code",
   "execution_count": 36,
   "id": "4eedaffa-6d72-4e43-b501-b4292ee47eaf",
   "metadata": {},
   "outputs": [
    {
     "name": "stderr",
     "output_type": "stream",
     "text": [
      "/tmp/ipykernel_12579/1337902028.py:1: RuntimeWarning: The measurement information indicates a low-pass frequency of 1024.0 Hz. The decim=5 parameter will result in a sampling frequency of 409.6 Hz, which can cause aliasing artifacts.\n",
      "  epochs = epochs.decimate(5)\n"
     ]
    }
   ],
   "source": [
    "epochs = epochs.decimate(5)"
   ]
  },
  {
   "cell_type": "code",
   "execution_count": 37,
   "id": "0e7a3d33-60e9-4138-90f8-4b186ce66ad8",
   "metadata": {},
   "outputs": [],
   "source": [
    "targets = epochs.events.T[-1]"
   ]
  },
  {
   "cell_type": "code",
   "execution_count": 38,
   "id": "3e47f8d3-c193-4b10-8d75-ac01d8e31ca9",
   "metadata": {},
   "outputs": [
    {
     "data": {
      "text/plain": [
       "161"
      ]
     },
     "execution_count": 38,
     "metadata": {},
     "output_type": "execute_result"
    }
   ],
   "source": [
    "len(targets)"
   ]
  },
  {
   "cell_type": "code",
   "execution_count": 39,
   "id": "01896f80-96e7-4f71-8f9c-f97be49af324",
   "metadata": {},
   "outputs": [],
   "source": [
    "# raw_car.plot(\n",
    "#     events=events, \n",
    "#     start=0, \n",
    "#     duration=180, \n",
    "#     color='gray', \n",
    "#     event_color={2: 'g', 1: 'r'}, \n",
    "#     bgcolor='w'\n",
    "# )"
   ]
  },
  {
   "cell_type": "markdown",
   "id": "bad05188-3aaf-4aef-9a84-218d97e06fd7",
   "metadata": {},
   "source": [
    "# Building a model"
   ]
  },
  {
   "cell_type": "code",
   "execution_count": 40,
   "id": "8c45ff98-9e2d-409b-a5c7-c6bdd079a0d0",
   "metadata": {},
   "outputs": [],
   "source": [
    "# ! pip install braindecode"
   ]
  },
  {
   "cell_type": "code",
   "execution_count": null,
   "id": "c5843f44-31f5-432f-9b4a-5d83242f21f7",
   "metadata": {},
   "outputs": [],
   "source": []
  },
  {
   "cell_type": "code",
   "execution_count": 41,
   "id": "c5cf83aa-3776-4e18-8367-fd05b5509ae2",
   "metadata": {},
   "outputs": [
    {
     "name": "stdout",
     "output_type": "stream",
     "text": [
      "All the Braindecode models:\n",
      "['ATCNet', 'Deep4Net', 'DeepSleepNet', 'EEGConformer', 'EEGITNet', 'EEGInception', 'EEGInceptionERP', 'EEGInceptionMI', 'EEGNetv1', 'EEGNetv4', 'EEGResNet', 'HybridNet', 'ShallowFBCSPNet', 'SleepStagerBlanco2020', 'SleepStagerChambon2018', 'SleepStagerEldele2021', 'TCN', 'TIDNet', 'USleep']\n"
     ]
    }
   ],
   "source": [
    "from braindecode.models.util import models_dict\n",
    "\n",
    "print(f'All the Braindecode models:\\n{list(models_dict.keys())}')"
   ]
  },
  {
   "cell_type": "code",
   "execution_count": 42,
   "id": "fca7f039-fbe7-4789-b8dc-3911ab1d2a16",
   "metadata": {},
   "outputs": [],
   "source": [
    "from braindecode.models import ShallowFBCSPNet"
   ]
  },
  {
   "cell_type": "code",
   "execution_count": 43,
   "id": "2604cfae-7c45-4c83-ac20-71ebddf7cc10",
   "metadata": {},
   "outputs": [
    {
     "data": {
      "text/plain": [
       "(2049,)"
      ]
     },
     "execution_count": 43,
     "metadata": {},
     "output_type": "execute_result"
    }
   ],
   "source": [
    "epochs.times.shape"
   ]
  },
  {
   "cell_type": "code",
   "execution_count": null,
   "id": "17a1840e-fcb1-4eee-ac10-79d6fb7a399a",
   "metadata": {},
   "outputs": [],
   "source": []
  },
  {
   "cell_type": "code",
   "execution_count": 60,
   "id": "6758a267-a8d5-4f07-9ff0-1f224105b7cb",
   "metadata": {},
   "outputs": [
    {
     "name": "stdout",
     "output_type": "stream",
     "text": [
      "============================================================================================================================================\n",
      "Layer (type (var_name):depth-idx)        Input Shape               Output Shape              Param #                   Kernel Shape\n",
      "============================================================================================================================================\n",
      "ShallowFBCSPNet (ShallowFBCSPNet)        [1, 101, 2049]            [1, 2]                    --                        --\n",
      "├─Ensure4d (ensuredims): 1-1             [1, 101, 2049]            [1, 101, 2049, 1]         --                        --\n",
      "├─Rearrange (dimshuffle): 1-2            [1, 101, 2049, 1]         [1, 1, 2049, 101]         --                        --\n",
      "├─CombinedConv (conv_time_spat): 1-3     [1, 1, 2049, 101]         [1, 40, 2025, 1]          162,640                   --\n",
      "├─BatchNorm2d (bnorm): 1-4               [1, 40, 2025, 1]          [1, 40, 2025, 1]          80                        --\n",
      "├─Expression (conv_nonlin_exp): 1-5      [1, 40, 2025, 1]          [1, 40, 2025, 1]          --                        --\n",
      "├─AvgPool2d (pool): 1-6                  [1, 40, 2025, 1]          [1, 40, 131, 1]           --                        [75, 1]\n",
      "├─Expression (pool_nonlin_exp): 1-7      [1, 40, 131, 1]           [1, 40, 131, 1]           --                        --\n",
      "├─Dropout (drop): 1-8                    [1, 40, 131, 1]           [1, 40, 131, 1]           --                        --\n",
      "├─Sequential (final_layer): 1-9          [1, 40, 131, 1]           [1, 2]                    --                        --\n",
      "│    └─Conv2d (conv_classifier): 2-1     [1, 40, 131, 1]           [1, 2, 1, 1]              10,482                    [131, 1]\n",
      "│    └─LogSoftmax (logsoftmax): 2-2      [1, 2, 1, 1]              [1, 2, 1, 1]              --                        --\n",
      "│    └─Expression (squeeze): 2-3         [1, 2, 1, 1]              [1, 2]                    --                        --\n",
      "============================================================================================================================================\n",
      "Total params: 173,202\n",
      "Trainable params: 173,202\n",
      "Non-trainable params: 0\n",
      "Total mult-adds (Units.MEGABYTES): 0.01\n",
      "============================================================================================================================================\n",
      "Input size (MB): 0.83\n",
      "Forward/backward pass size (MB): 0.65\n",
      "Params size (MB): 0.04\n",
      "Estimated Total Size (MB): 1.52\n",
      "============================================================================================================================================\n"
     ]
    }
   ],
   "source": [
    "# model = ShallowFBCSPNet(\n",
    "#     n_chans=len(epochs.ch_names),\n",
    "#     n_times=epochs.times.shape[0],\n",
    "#     n_outputs=len(set(targets)),\n",
    "#     final_conv_length='auto',\n",
    "# )\n",
    "# print(model)"
   ]
  },
  {
   "cell_type": "code",
   "execution_count": 72,
   "id": "d4757768-e378-41c8-8d06-674959d86501",
   "metadata": {},
   "outputs": [],
   "source": [
    "n_epochs = 100\n",
    "lr = 0.0625 * 0.01\n",
    "weight_decay = 0\n",
    "batch_size = 64"
   ]
  },
  {
   "cell_type": "code",
   "execution_count": 73,
   "id": "b8555e07-4b42-4206-8ecb-611ae8eb718b",
   "metadata": {},
   "outputs": [],
   "source": [
    "from skorch.dataset import ValidSplit\n",
    "from skorch.callbacks import LRScheduler\n",
    "from braindecode import EEGClassifier\n",
    "import torch"
   ]
  },
  {
   "cell_type": "code",
   "execution_count": 74,
   "id": "85f358b1-b1ea-499a-b107-06cf20df94c7",
   "metadata": {},
   "outputs": [],
   "source": [
    "net = EEGClassifier(\n",
    "    'ShallowFBCSPNet',\n",
    "    criterion=torch.nn.CrossEntropyLoss,\n",
    "    optimizer=torch.optim.AdamW,\n",
    "    optimizer__lr=lr,\n",
    "    optimizer__weight_decay=weight_decay,\n",
    "    batch_size=batch_size,\n",
    "    callbacks=[\n",
    "        \"accuracy\",\n",
    "        (\"lr_scheduler\", LRScheduler(\"CosineAnnealingLR\", T_max=n_epochs - 1)),\n",
    "    ],\n",
    "    module__final_conv_length='auto',\n",
    "    train_split=ValidSplit(0.2),\n",
    "    # To train a neural network you need validation split, here, we use 20%.\n",
    ")"
   ]
  },
  {
   "cell_type": "code",
   "execution_count": 75,
   "id": "21b6192f-2a7c-441c-85b8-288a3d46198d",
   "metadata": {},
   "outputs": [
    {
     "data": {
      "text/plain": [
       "0.20496894409937888"
      ]
     },
     "execution_count": 75,
     "metadata": {},
     "output_type": "execute_result"
    }
   ],
   "source": [
    "np.mean(targets)"
   ]
  },
  {
   "cell_type": "code",
   "execution_count": 76,
   "id": "3ef54505-9b44-4ee2-8c32-db79833b8a30",
   "metadata": {},
   "outputs": [
    {
     "name": "stdout",
     "output_type": "stream",
     "text": [
      "  epoch    train_accuracy    train_loss    valid_acc    valid_accuracy    valid_loss      lr      dur\n",
      "-------  ----------------  ------------  -----------  ----------------  ------------  ------  -------\n",
      "      1            \u001b[36m0.2266\u001b[0m        \u001b[32m1.0661\u001b[0m       \u001b[35m0.1212\u001b[0m            \u001b[31m0.1212\u001b[0m        \u001b[94m6.5202\u001b[0m  0.0006  14.1447\n",
      "      2            \u001b[36m0.2812\u001b[0m        \u001b[32m0.5381\u001b[0m       \u001b[35m0.1515\u001b[0m            \u001b[31m0.1515\u001b[0m        \u001b[94m4.9241\u001b[0m  0.0006  13.0210\n",
      "      3            \u001b[36m0.4922\u001b[0m        \u001b[32m0.2780\u001b[0m       0.0909            0.0909        \u001b[94m2.9957\u001b[0m  0.0006  12.7258\n",
      "      4            \u001b[36m0.6797\u001b[0m        \u001b[32m0.1295\u001b[0m       \u001b[35m0.2121\u001b[0m            \u001b[31m0.2121\u001b[0m        \u001b[94m2.2876\u001b[0m  0.0006  12.5576\n",
      "      5            \u001b[36m0.7812\u001b[0m        0.1546       0.2121            0.2121        \u001b[94m2.1303\u001b[0m  0.0006  12.4831\n",
      "      6            \u001b[36m0.8438\u001b[0m        \u001b[32m0.1011\u001b[0m       0.2121            0.2121        \u001b[94m2.0011\u001b[0m  0.0006  12.3457\n",
      "      7            \u001b[36m0.9141\u001b[0m        0.1060       \u001b[35m0.2424\u001b[0m            \u001b[31m0.2424\u001b[0m        \u001b[94m1.9077\u001b[0m  0.0006  12.3075\n",
      "      8            \u001b[36m0.9531\u001b[0m        \u001b[32m0.0547\u001b[0m       \u001b[35m0.3030\u001b[0m            \u001b[31m0.3030\u001b[0m        \u001b[94m1.6896\u001b[0m  0.0006  11.7557\n",
      "      9            \u001b[36m0.9844\u001b[0m        0.0730       \u001b[35m0.3636\u001b[0m            \u001b[31m0.3636\u001b[0m        \u001b[94m1.4780\u001b[0m  0.0006  11.8139\n",
      "     10            \u001b[36m0.9922\u001b[0m        \u001b[32m0.0547\u001b[0m       \u001b[35m0.4242\u001b[0m            \u001b[31m0.4242\u001b[0m        \u001b[94m1.3279\u001b[0m  0.0006  11.8676\n",
      "     11            0.9922        \u001b[32m0.0289\u001b[0m       \u001b[35m0.4848\u001b[0m            \u001b[31m0.4848\u001b[0m        \u001b[94m1.2121\u001b[0m  0.0006  11.7170\n",
      "     12            0.9922        \u001b[32m0.0252\u001b[0m       \u001b[35m0.5152\u001b[0m            \u001b[31m0.5152\u001b[0m        \u001b[94m1.1270\u001b[0m  0.0006  11.7426\n",
      "     13            0.9922        \u001b[32m0.0183\u001b[0m       \u001b[35m0.5758\u001b[0m            \u001b[31m0.5758\u001b[0m        \u001b[94m1.0669\u001b[0m  0.0006  12.4803\n",
      "     14            0.9922        0.0299       \u001b[35m0.6364\u001b[0m            \u001b[31m0.6364\u001b[0m        \u001b[94m1.0129\u001b[0m  0.0006  14.1281\n",
      "     15            \u001b[36m1.0000\u001b[0m        0.0314       0.6364            0.6364        \u001b[94m0.9699\u001b[0m  0.0006  12.1575\n",
      "     16            1.0000        \u001b[32m0.0131\u001b[0m       \u001b[35m0.6667\u001b[0m            \u001b[31m0.6667\u001b[0m        \u001b[94m0.9431\u001b[0m  0.0006  12.0661\n",
      "     17            1.0000        0.0257       0.6667            0.6667        \u001b[94m0.9278\u001b[0m  0.0006  12.9187\n",
      "     18            1.0000        \u001b[32m0.0089\u001b[0m       0.6364            0.6364        \u001b[94m0.9208\u001b[0m  0.0006  12.5661\n",
      "     19            1.0000        0.0101       0.6364            0.6364        \u001b[94m0.9203\u001b[0m  0.0006  12.1045\n",
      "     20            1.0000        \u001b[32m0.0081\u001b[0m       0.6364            0.6364        \u001b[94m0.9202\u001b[0m  0.0006  12.1571\n",
      "     21            1.0000        0.0128       0.6364            0.6364        \u001b[94m0.9198\u001b[0m  0.0006  16.2377\n",
      "     22            1.0000        0.0115       0.6364            0.6364        0.9212  0.0006  19.0813\n",
      "     23            1.0000        0.0145       0.6364            0.6364        0.9204  0.0006  16.1029\n"
     ]
    },
    {
     "data": {
      "text/plain": [
       "<class 'braindecode.classifier.EEGClassifier'>[initialized](\n",
       "  module_=============================================================================================================================================\n",
       "  Layer (type (var_name):depth-idx)        Input Shape               Output Shape              Param #                   Kernel Shape\n",
       "  ============================================================================================================================================\n",
       "  ShallowFBCSPNet (ShallowFBCSPNet)        [1, 101, 2049]            [1, 2]                    --                        --\n",
       "  ├─Ensure4d (ensuredims): 1-1             [1, 101, 2049]            [1, 101, 2049, 1]         --                        --\n",
       "  ├─Rearrange (dimshuffle): 1-2            [1, 101, 2049, 1]         [1, 1, 2049, 101]         --                        --\n",
       "  ├─CombinedConv (conv_time_spat): 1-3     [1, 1, 2049, 101]         [1, 40, 2025, 1]          162,640                   --\n",
       "  ├─BatchNorm2d (bnorm): 1-4               [1, 40, 2025, 1]          [1, 40, 2025, 1]          80                        --\n",
       "  ├─Expression (conv_nonlin_exp): 1-5      [1, 40, 2025, 1]          [1, 40, 2025, 1]          --                        --\n",
       "  ├─AvgPool2d (pool): 1-6                  [1, 40, 2025, 1]          [1, 40, 131, 1]           --                        [75, 1]\n",
       "  ├─Expression (pool_nonlin_exp): 1-7      [1, 40, 131, 1]           [1, 40, 131, 1]           --                        --\n",
       "  ├─Dropout (drop): 1-8                    [1, 40, 131, 1]           [1, 40, 131, 1]           --                        --\n",
       "  ├─Sequential (final_layer): 1-9          [1, 40, 131, 1]           [1, 2]                    --                        --\n",
       "  │    └─Conv2d (conv_classifier): 2-1     [1, 40, 131, 1]           [1, 2, 1, 1]              10,482                    [131, 1]\n",
       "  │    └─LogSoftmax (logsoftmax): 2-2      [1, 2, 1, 1]              [1, 2, 1, 1]              --                        --\n",
       "  │    └─Expression (squeeze): 2-3         [1, 2, 1, 1]              [1, 2]                    --                        --\n",
       "  ============================================================================================================================================\n",
       "  Total params: 173,202\n",
       "  Trainable params: 173,202\n",
       "  Non-trainable params: 0\n",
       "  Total mult-adds (Units.MEGABYTES): 0.01\n",
       "  ============================================================================================================================================\n",
       "  Input size (MB): 0.83\n",
       "  Forward/backward pass size (MB): 0.65\n",
       "  Params size (MB): 0.04\n",
       "  Estimated Total Size (MB): 1.52\n",
       "  ============================================================================================================================================,\n",
       ")"
      ]
     },
     "execution_count": 76,
     "metadata": {},
     "output_type": "execute_result"
    }
   ],
   "source": [
    "net.fit(epochs, targets, epochs=n_epochs)"
   ]
  },
  {
   "cell_type": "markdown",
   "id": "93741855-8b4d-47ae-bf42-2d158aa9d9c3",
   "metadata": {},
   "source": [
    "Что нужно для того, чтобы скачать датасет на гугл диск?"
   ]
  },
  {
   "cell_type": "code",
   "execution_count": 49,
   "id": "a1dd9238-a420-4a60-a286-a6ca3f92527e",
   "metadata": {},
   "outputs": [
    {
     "data": {
      "text/plain": [
       "array([0, 0, 1, 0, 0, 0, 0, 0, 0, 1, 1, 1, 1, 1, 1, 1, 1, 1, 1, 1, 1, 0,\n",
       "       1, 1, 0, 0, 0, 1, 0, 0, 0, 0, 0, 0, 0, 0, 0, 1, 0, 1, 0, 0, 0, 0,\n",
       "       0, 0, 0, 0, 0, 0, 0, 1, 0, 0, 0, 0, 0, 0, 0, 0, 0, 0, 0, 0, 0, 0,\n",
       "       0, 0, 0, 0, 0, 0, 1, 0, 0, 0, 0, 0, 0, 1, 0, 1, 0, 0, 0, 0, 0, 1,\n",
       "       0, 0, 1, 0, 0, 1, 0, 0, 1, 0, 0, 1, 0, 0, 0, 1, 0, 0, 0, 1, 0, 0,\n",
       "       0, 0, 0, 1, 1, 0, 0, 0, 1, 1, 1, 1, 0, 0, 0, 0, 0, 0, 0, 1, 1, 1,\n",
       "       1, 1, 1, 0, 0, 0, 0, 1, 1, 0, 1, 1, 1, 1, 1, 0, 1, 0, 0, 1, 0, 0,\n",
       "       1, 0, 0, 0, 0, 0, 1])"
      ]
     },
     "execution_count": 49,
     "metadata": {},
     "output_type": "execute_result"
    }
   ],
   "source": [
    "net.predict(epochs)"
   ]
  },
  {
   "cell_type": "code",
   "execution_count": 50,
   "id": "5532d066-5c27-4d63-ba42-bec50db2cf1a",
   "metadata": {},
   "outputs": [
    {
     "data": {
      "text/plain": [
       "array([[8.90774727e-01, 1.09225281e-01],\n",
       "       [7.70938933e-01, 2.29061037e-01],\n",
       "       [1.81875035e-01, 8.18124950e-01],\n",
       "       [9.87322271e-01, 1.26777468e-02],\n",
       "       [9.12390351e-01, 8.76096264e-02],\n",
       "       [5.06068647e-01, 4.93931383e-01],\n",
       "       [8.84952009e-01, 1.15047991e-01],\n",
       "       [6.03151560e-01, 3.96848410e-01],\n",
       "       [8.95363152e-01, 1.04636885e-01],\n",
       "       [2.68654502e-03, 9.97313440e-01],\n",
       "       [1.46892788e-02, 9.85310674e-01],\n",
       "       [2.17545368e-02, 9.78245437e-01],\n",
       "       [3.76476976e-03, 9.96235192e-01],\n",
       "       [2.38898490e-03, 9.97611046e-01],\n",
       "       [1.30839879e-03, 9.98691618e-01],\n",
       "       [4.07257557e-01, 5.92742443e-01],\n",
       "       [4.59133042e-03, 9.95408595e-01],\n",
       "       [5.45587800e-02, 9.45441246e-01],\n",
       "       [1.26477228e-02, 9.87352252e-01],\n",
       "       [1.29940445e-02, 9.87005949e-01],\n",
       "       [2.18394957e-02, 9.78160560e-01],\n",
       "       [8.45161378e-01, 1.54838637e-01],\n",
       "       [4.12051333e-03, 9.95879531e-01],\n",
       "       [4.81703691e-03, 9.95182931e-01],\n",
       "       [9.37439799e-01, 6.25601634e-02],\n",
       "       [8.48888278e-01, 1.51111677e-01],\n",
       "       [8.20410609e-01, 1.79589376e-01],\n",
       "       [8.16972330e-02, 9.18302834e-01],\n",
       "       [9.02792394e-01, 9.72075388e-02],\n",
       "       [7.05064535e-01, 2.94935465e-01],\n",
       "       [8.70351493e-01, 1.29648507e-01],\n",
       "       [9.33769107e-01, 6.62309602e-02],\n",
       "       [9.48886156e-01, 5.11138812e-02],\n",
       "       [8.62837791e-01, 1.37162268e-01],\n",
       "       [7.71130264e-01, 2.28869736e-01],\n",
       "       [7.40321040e-01, 2.59678990e-01],\n",
       "       [9.83095825e-01, 1.69041958e-02],\n",
       "       [4.22479153e-01, 5.77520847e-01],\n",
       "       [9.28339779e-01, 7.16601908e-02],\n",
       "       [3.47410282e-03, 9.96525943e-01],\n",
       "       [8.21982205e-01, 1.78017750e-01],\n",
       "       [9.33162570e-01, 6.68374002e-02],\n",
       "       [9.06313241e-01, 9.36867222e-02],\n",
       "       [9.11678255e-01, 8.83216858e-02],\n",
       "       [8.30534518e-01, 1.69465452e-01],\n",
       "       [9.53888059e-01, 4.61119376e-02],\n",
       "       [9.17830765e-01, 8.21692124e-02],\n",
       "       [7.99437046e-01, 2.00562984e-01],\n",
       "       [9.79035616e-01, 2.09643878e-02],\n",
       "       [7.13193595e-01, 2.86806434e-01],\n",
       "       [8.33068073e-01, 1.66931972e-01],\n",
       "       [2.19665542e-01, 7.80334473e-01],\n",
       "       [8.82994652e-01, 1.17005311e-01],\n",
       "       [9.27246392e-01, 7.27536082e-02],\n",
       "       [8.26890588e-01, 1.73109457e-01],\n",
       "       [5.06641567e-01, 4.93358463e-01],\n",
       "       [5.42457819e-01, 4.57542241e-01],\n",
       "       [9.67505872e-01, 3.24941389e-02],\n",
       "       [9.16673839e-01, 8.33261758e-02],\n",
       "       [6.27911627e-01, 3.72088403e-01],\n",
       "       [7.18012452e-01, 2.81987518e-01],\n",
       "       [9.46122527e-01, 5.38775064e-02],\n",
       "       [9.83615816e-01, 1.63841788e-02],\n",
       "       [8.91136646e-01, 1.08863346e-01],\n",
       "       [6.21319950e-01, 3.78680110e-01],\n",
       "       [9.45814252e-01, 5.41857257e-02],\n",
       "       [9.01796043e-01, 9.82039496e-02],\n",
       "       [7.90800512e-01, 2.09199488e-01],\n",
       "       [8.51904929e-01, 1.48095116e-01],\n",
       "       [7.59548008e-01, 2.40451962e-01],\n",
       "       [8.23559880e-01, 1.76440150e-01],\n",
       "       [7.21744597e-01, 2.78255373e-01],\n",
       "       [4.65107888e-01, 5.34892082e-01],\n",
       "       [9.40324783e-01, 5.96752167e-02],\n",
       "       [9.52142298e-01, 4.78576384e-02],\n",
       "       [7.33330905e-01, 2.66669124e-01],\n",
       "       [8.20527256e-01, 1.79472715e-01],\n",
       "       [5.90455651e-01, 4.09544379e-01],\n",
       "       [5.41074038e-01, 4.58925992e-01],\n",
       "       [3.74288499e-01, 6.25711560e-01],\n",
       "       [8.38589072e-01, 1.61410868e-01],\n",
       "       [2.45113894e-01, 7.54886091e-01],\n",
       "       [9.18344915e-01, 8.16550702e-02],\n",
       "       [6.55813456e-01, 3.44186574e-01],\n",
       "       [5.58080077e-01, 4.41919863e-01],\n",
       "       [6.98711932e-01, 3.01288068e-01],\n",
       "       [7.35359550e-01, 2.64640421e-01],\n",
       "       [4.05801423e-02, 9.59419847e-01],\n",
       "       [8.52411389e-01, 1.47588596e-01],\n",
       "       [9.07897592e-01, 9.21023488e-02],\n",
       "       [4.25446302e-01, 5.74553668e-01],\n",
       "       [7.85983026e-01, 2.14017004e-01],\n",
       "       [9.96419311e-01, 3.58074158e-03],\n",
       "       [4.09898549e-01, 5.90101480e-01],\n",
       "       [6.95333362e-01, 3.04666638e-01],\n",
       "       [9.05058026e-01, 9.49419364e-02],\n",
       "       [2.72489369e-01, 7.27510631e-01],\n",
       "       [7.67128885e-01, 2.32871100e-01],\n",
       "       [8.22616577e-01, 1.77383378e-01],\n",
       "       [3.21012139e-01, 6.78987801e-01],\n",
       "       [9.72603619e-01, 2.73963343e-02],\n",
       "       [8.92201304e-01, 1.07798651e-01],\n",
       "       [8.65801930e-01, 1.34198055e-01],\n",
       "       [1.88348979e-01, 8.11650991e-01],\n",
       "       [7.70262063e-01, 2.29737997e-01],\n",
       "       [7.23589420e-01, 2.76410580e-01],\n",
       "       [9.90351975e-01, 9.64803528e-03],\n",
       "       [3.77739042e-01, 6.22260988e-01],\n",
       "       [6.16270781e-01, 3.83729130e-01],\n",
       "       [9.51894701e-01, 4.81052846e-02],\n",
       "       [8.36088836e-01, 1.63911164e-01],\n",
       "       [6.75213277e-01, 3.24786752e-01],\n",
       "       [8.03814411e-01, 1.96185574e-01],\n",
       "       [1.97526813e-02, 9.80247378e-01],\n",
       "       [8.72194022e-03, 9.91278052e-01],\n",
       "       [6.93237960e-01, 3.06762010e-01],\n",
       "       [8.26929867e-01, 1.73070118e-01],\n",
       "       [9.94943082e-01, 5.05693350e-03],\n",
       "       [4.77337651e-02, 9.52266157e-01],\n",
       "       [4.38219123e-03, 9.95617867e-01],\n",
       "       [2.57701101e-03, 9.97423053e-01],\n",
       "       [1.17393779e-02, 9.88260627e-01],\n",
       "       [9.49809551e-01, 5.01904562e-02],\n",
       "       [8.52855623e-01, 1.47144318e-01],\n",
       "       [9.00708795e-01, 9.92912427e-02],\n",
       "       [9.27749991e-01, 7.22500160e-02],\n",
       "       [9.47686076e-01, 5.23139127e-02],\n",
       "       [6.66238487e-01, 3.33761513e-01],\n",
       "       [9.54800189e-01, 4.51998487e-02],\n",
       "       [3.01231891e-02, 9.69876826e-01],\n",
       "       [4.61719275e-01, 5.38280666e-01],\n",
       "       [8.90971255e-03, 9.91090298e-01],\n",
       "       [3.03085912e-02, 9.69691336e-01],\n",
       "       [2.40323782e-01, 7.59676158e-01],\n",
       "       [2.41341125e-02, 9.75865960e-01],\n",
       "       [8.06581795e-01, 1.93418205e-01],\n",
       "       [7.94016063e-01, 2.05983967e-01],\n",
       "       [9.26974058e-01, 7.30259866e-02],\n",
       "       [8.98617446e-01, 1.01382591e-01],\n",
       "       [3.80260572e-02, 9.61973965e-01],\n",
       "       [1.52900061e-02, 9.84710038e-01],\n",
       "       [8.41606259e-01, 1.58393726e-01],\n",
       "       [4.32413906e-01, 5.67586064e-01],\n",
       "       [9.94607690e-04, 9.99005377e-01],\n",
       "       [1.02314502e-01, 8.97685528e-01],\n",
       "       [4.40198695e-03, 9.95598018e-01],\n",
       "       [1.27725350e-02, 9.87227440e-01],\n",
       "       [7.92212903e-01, 2.07787097e-01],\n",
       "       [3.62326880e-03, 9.96376693e-01],\n",
       "       [8.44439745e-01, 1.55560255e-01],\n",
       "       [7.81210124e-01, 2.18789801e-01],\n",
       "       [1.59693763e-01, 8.40306222e-01],\n",
       "       [8.53924632e-01, 1.46075398e-01],\n",
       "       [9.09905076e-01, 9.00948644e-02],\n",
       "       [3.49874496e-01, 6.50125504e-01],\n",
       "       [9.17798162e-01, 8.22018981e-02],\n",
       "       [9.81986403e-01, 1.80135649e-02],\n",
       "       [9.19602454e-01, 8.03975835e-02],\n",
       "       [9.40917850e-01, 5.90821803e-02],\n",
       "       [8.16742837e-01, 1.83257133e-01],\n",
       "       [3.14313248e-02, 9.68568742e-01]], dtype=float32)"
      ]
     },
     "execution_count": 50,
     "metadata": {},
     "output_type": "execute_result"
    }
   ],
   "source": [
    "net.predict_proba(epochs)"
   ]
  },
  {
   "cell_type": "code",
   "execution_count": null,
   "id": "300b1619-eaa0-4e7c-8005-5760a2045527",
   "metadata": {},
   "outputs": [],
   "source": [
    "del net"
   ]
  },
  {
   "cell_type": "code",
   "execution_count": null,
   "id": "1295197d-bdf9-48cc-8865-cf4cfa76358f",
   "metadata": {},
   "outputs": [],
   "source": []
  }
 ],
 "metadata": {
  "kernelspec": {
   "display_name": "Python 3 (ipykernel)",
   "language": "python",
   "name": "python3"
  },
  "language_info": {
   "codemirror_mode": {
    "name": "ipython",
    "version": 3
   },
   "file_extension": ".py",
   "mimetype": "text/x-python",
   "name": "python",
   "nbconvert_exporter": "python",
   "pygments_lexer": "ipython3",
   "version": "3.12.2"
  }
 },
 "nbformat": 4,
 "nbformat_minor": 5
}
